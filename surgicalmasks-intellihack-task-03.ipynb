{
 "cells": [
  {
   "cell_type": "markdown",
   "metadata": {},
   "source": [
    "# Data Generation"
   ]
  },
  {
   "cell_type": "code",
   "execution_count": null,
   "metadata": {
    "execution": {
     "iopub.execute_input": "2025-03-10T03:10:09.808440Z",
     "iopub.status.busy": "2025-03-10T03:10:09.808167Z",
     "iopub.status.idle": "2025-03-10T03:11:57.573857Z",
     "shell.execute_reply": "2025-03-10T03:11:57.572899Z",
     "shell.execute_reply.started": "2025-03-10T03:10:09.808410Z"
    },
    "trusted": true
   },
   "outputs": [],
   "source": [
    "%%capture\n",
    "!pip install --upgrade llama-index\n",
    "!pip install llama-index-llms-ollama\n",
    "!pip install llama-index-finetuning\n",
    "!pip install llama-index-llms-groq\n",
    "!pip install llama-index-llms-gemini\n",
    "!pip install unsloth vllm\n",
    "!pip install triton==3.1.0\n",
    "!pip install -U pynvml\n",
    "!pip install transformers accelerate torch huggingface_hub \n",
    "!pip install -U bitsandbytes\n"
   ]
  },
  {
   "cell_type": "code",
   "execution_count": null,
   "metadata": {
    "execution": {
     "iopub.execute_input": "2025-03-10T02:27:09.332269Z",
     "iopub.status.busy": "2025-03-10T02:27:09.332077Z",
     "iopub.status.idle": "2025-03-10T02:27:09.462593Z",
     "shell.execute_reply": "2025-03-10T02:27:09.461810Z",
     "shell.execute_reply.started": "2025-03-10T02:27:09.332252Z"
    },
    "trusted": true
   },
   "outputs": [],
   "source": [
    "%%capture\n",
    "!git clone https://github.com/AkeshSamuditha/Intellihack_SurgicalMasks_03.git"
   ]
  },
  {
   "cell_type": "markdown",
   "metadata": {},
   "source": [
    "# Generate Synthetic Data"
   ]
  },
  {
   "cell_type": "code",
   "execution_count": null,
   "metadata": {
    "trusted": true
   },
   "outputs": [],
   "source": [
    "# !git -C Intellihack_SurgicalMasks_03/ pull\n",
    "# !python \"/kaggle/working/Intellihack_SurgicalMasks_03/Data Generation.py\" --folder \"/kaggle/input/task03\" --api_key \"API KEY\""
   ]
  },
  {
   "cell_type": "markdown",
   "metadata": {},
   "source": [
    "# Embedding Model FT"
   ]
  },
  {
   "cell_type": "code",
   "execution_count": null,
   "metadata": {
    "execution": {
     "iopub.execute_input": "2025-03-10T02:32:36.128625Z",
     "iopub.status.busy": "2025-03-10T02:32:36.128304Z",
     "iopub.status.idle": "2025-03-10T02:32:54.403023Z",
     "shell.execute_reply": "2025-03-10T02:32:54.401924Z",
     "shell.execute_reply.started": "2025-03-10T02:32:36.128601Z"
    },
    "trusted": true
   },
   "outputs": [],
   "source": [
    "# !git -C Intellihack_SurgicalMasks_03/ pull\n",
    "# !python \"/kaggle/working/Intellihack_SurgicalMasks_03/embedding_ft.py\" "
   ]
  },
  {
   "cell_type": "markdown",
   "metadata": {},
   "source": [
    "# Qwen Training "
   ]
  },
  {
   "cell_type": "code",
   "execution_count": null,
   "metadata": {
    "execution": {
     "iopub.execute_input": "2025-03-10T02:27:44.658443Z",
     "iopub.status.busy": "2025-03-10T02:27:44.658174Z",
     "iopub.status.idle": "2025-03-10T02:28:54.582034Z",
     "shell.execute_reply": "2025-03-10T02:28:54.580848Z",
     "shell.execute_reply.started": "2025-03-10T02:27:44.658420Z"
    },
    "trusted": true
   },
   "outputs": [],
   "source": [
    "# !git -C Intellihack_SurgicalMasks_03/ pull\n",
    "# !python \"/kaggle/working/Intellihack_SurgicalMasks_03/custom_train.py\""
   ]
  },
  {
   "cell_type": "markdown",
   "metadata": {},
   "source": [
    "## Inferencing"
   ]
  },
  {
   "cell_type": "code",
   "execution_count": null,
   "metadata": {
    "trusted": true
   },
   "outputs": [],
   "source": [
    "import torch\n",
    "from transformers import AutoTokenizer, AutoModelForQuestionAnswering, AutoModel\n",
    "from sklearn.metrics.pairwise import cosine_similarity\n",
    "import numpy as np\n",
    "\n",
    "embedding_model_name = \"SurgicalMasks_bge-large-en-v1.5\"\n",
    "qa_model_name = \"SurgicalMasks_Qwen2.5-3B-Instruct-4bit\"\n",
    "\n",
    "embedding_model = AutoModel.from_pretrained(embedding_model_name)\n",
    "embedding_tokenizer = AutoTokenizer.from_pretrained(embedding_model_name)\n",
    "\n",
    "qa_model = AutoModelForQuestionAnswering.from_pretrained(qa_model_name)\n",
    "qa_tokenizer = AutoTokenizer.from_pretrained(qa_model_name)\n",
    "\n",
    "def get_embedding(text):\n",
    "    inputs = embedding_tokenizer(text, return_tensors='pt', truncation=True, padding=True, max_length=512)\n",
    "    with torch.no_grad():\n",
    "        embedding = embedding_model(**inputs).last_hidden_state.mean(dim=1)\n",
    "    return embedding\n",
    "\n",
    "def find_best_context(question_embedding, corpus_embeddings, corpus):\n",
    "    similarities = cosine_similarity(question_embedding.cpu().numpy(), corpus_embeddings.cpu().numpy())\n",
    "    best_idx = np.argmax(similarities)\n",
    "    return corpus[best_idx]\n",
    "\n",
    "def get_answer(question, context):\n",
    "    inputs = qa_tokenizer(question, context, return_tensors='pt', truncation=True, padding=True, max_length=512)\n",
    "    with torch.no_grad():\n",
    "        outputs = qa_model(**inputs)\n",
    "    start_idx = outputs.start_logits.argmax()\n",
    "    end_idx = outputs.end_logits.argmax()\n",
    "    answer_tokens = inputs['input_ids'][0][start_idx:end_idx + 1]\n",
    "    answer = qa_tokenizer.decode(answer_tokens)\n",
    "    return answer\n",
    "\n",
    "def inference(question, corpus):\n",
    "    question_embedding = get_embedding(question)\n",
    "    corpus_embeddings = torch.stack([get_embedding(doc) for doc in corpus])\n",
    "    best_context = find_best_context(question_embedding, corpus_embeddings, corpus)\n",
    "    answer = get_answer(question, best_context)\n",
    "    return answer"
   ]
  },
  {
   "cell_type": "markdown",
   "metadata": {},
   "source": [
    "### Example Usage"
   ]
  },
  {
   "cell_type": "code",
   "execution_count": null,
   "metadata": {
    "trusted": true
   },
   "outputs": [],
   "source": [
    "import json\n",
    "\n",
    "question = \"What is deepseek\"\n",
    "with open('train_dataset.json', 'r') as f:\n",
    "    corpus_data = json.load(f)\n",
    "\n",
    "answer = inference(question, corpus_data)\n",
    "print(answer)\n"
   ]
  }
 ],
 "metadata": {
  "kaggle": {
   "accelerator": "nvidiaTeslaT4",
   "dataSources": [
    {
     "datasetId": 6825353,
     "sourceId": 10969534,
     "sourceType": "datasetVersion"
    }
   ],
   "dockerImageVersionId": 30919,
   "isGpuEnabled": true,
   "isInternetEnabled": true,
   "language": "python",
   "sourceType": "notebook"
  },
  "kernelspec": {
   "display_name": "Python 3",
   "language": "python",
   "name": "python3"
  },
  "language_info": {
   "codemirror_mode": {
    "name": "ipython",
    "version": 3
   },
   "file_extension": ".py",
   "mimetype": "text/x-python",
   "name": "python",
   "nbconvert_exporter": "python",
   "pygments_lexer": "ipython3",
   "version": "3.10.12"
  }
 },
 "nbformat": 4,
 "nbformat_minor": 4
}
